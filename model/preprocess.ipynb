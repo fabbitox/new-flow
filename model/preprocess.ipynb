{
 "cells": [
  {
   "cell_type": "code",
   "execution_count": 11,
   "metadata": {},
   "outputs": [],
   "source": [
    "# 2303_2308.csv 기상 자료 지역 분리 904, 941, 950\n",
    "import pandas as pd\n",
    "\n",
    "data = pd.read_csv('../data/2303_2308.csv', encoding='ansi')\n",
    "data[:4344].to_csv('test/904_2303_2308.csv', index=False)\n",
    "data[4416:8760].to_csv('test/941_2303_2308.csv', index=False)\n",
    "# data[8832:].to_csv('test/950_2303_2308.csv', index=False)"
   ]
  },
  {
   "cell_type": "code",
   "execution_count": null,
   "metadata": {},
   "outputs": [],
   "source": [
    "# 없는 데이터 확인\n",
    "codes = ['904', '941', '950']\n",
    "for code in codes:\n",
    "    data = pd.read_csv(f'test/{code}_2303_2308.csv')\n",
    "\n",
    "    # 시작 날짜와 끝 날짜\n",
    "    start_date = pd.to_datetime('2023-03-01')\n",
    "    end_date = pd.to_datetime('2023-08-29') # 29, 30, 31일에 결측치가 많아서 28일까지 잘랐음\n",
    "\n",
    "    # 시작 날짜부터 끝 날짜까지의 각 날짜에 대한 정보\n",
    "    current_date = start_date\n",
    "    while current_date <= end_date:\n",
    "        selected_rows = data[data['일시'].str.contains(current_date.strftime('%m-%d'))]\n",
    "        count = len(selected_rows)\n",
    "        if (count != 24):\n",
    "            print(f\"{code} {current_date.strftime('%m-%d')}:\", count)\n",
    "        current_date += pd.DateOffset(days=1)"
   ]
  },
  {
   "cell_type": "code",
   "execution_count": 17,
   "metadata": {},
   "outputs": [],
   "source": [
    "# 결측치 보간\n",
    "for code in codes:\n",
    "    data = pd.read_csv(f'test/{code}_2303_2308.csv')\n",
    "    data = data.interpolate()\n",
    "    data.to_csv(f'test/{code}_interpolated.csv', index=False)"
   ]
  },
  {
   "cell_type": "code",
   "execution_count": 29,
   "metadata": {},
   "outputs": [],
   "source": [
    "# 수위 파일\n",
    "import pandas as pd\n",
    "import json\n",
    "\n",
    "with open('../data/sinpyeong_2303_2308.json') as json_file:\n",
    "    data = json.load(json_file)\n",
    "data = pd.DataFrame(data)\n",
    "data['wl'] = data['wl'].astype(float)\n",
    "data.to_csv('test/water_2303_2308.csv', index=False)"
   ]
  },
  {
   "cell_type": "code",
   "execution_count": null,
   "metadata": {},
   "outputs": [],
   "source": [
    "# 수위 데이터 확인\n",
    "data = pd.read_csv('test/water_2303_2308.csv')\n",
    "data['ymdh'] = data['ymdh'].astype(str)\n",
    "\n",
    "# 시작 날짜와 끝 날짜\n",
    "start_date = pd.to_datetime('2023-03-01')\n",
    "end_date = pd.to_datetime('2023-08-29')\n",
    "\n",
    "# 시작 날짜부터 끝 날짜까지의 각 날짜에 대한 정보\n",
    "current_date = start_date\n",
    "while current_date <= end_date:\n",
    "    selected_rows = data[data['ymdh'].str.contains(current_date.strftime('%y%m%d'))]\n",
    "    count = len(selected_rows)\n",
    "    if (count != 24):\n",
    "        print(f\"{code} {current_date.strftime('%m-%d')}:\", count)\n",
    "    current_date += pd.DateOffset(days=1)"
   ]
  },
  {
   "cell_type": "code",
   "execution_count": 18,
   "metadata": {},
   "outputs": [],
   "source": [
    "# 2022 기상 자료 파일\n",
    "import pandas as pd\n",
    "\n",
    "codes = ['904', '941', '950']\n",
    "for code in codes:\n",
    "    data = pd.read_csv(f'../data/{code}_2022.csv', encoding='ansi')\n",
    "    data = data.drop(['현지기압(hPa)', '해면기압(hPa)', '일사(MJ/m^2)', '일조(hr)'], axis=1)\n",
    "    data.to_csv(f'train/{code}_2022.csv', index=False)"
   ]
  },
  {
   "cell_type": "code",
   "execution_count": 23,
   "metadata": {},
   "outputs": [],
   "source": [
    "# 없는 데이터 확인\n",
    "for code in codes:\n",
    "    data = pd.read_csv(f'train/{code}_2022.csv')\n",
    "\n",
    "    # 시작 날짜와 끝 날짜\n",
    "    start_date = pd.to_datetime('2022-01-01')\n",
    "    end_date = pd.to_datetime('2022-11-29') # 11월 30일부터 12월 9일까지 빠져 있어서 11월 29일까지\n",
    "\n",
    "    current_date = start_date\n",
    "    while current_date <= end_date:\n",
    "        selected_rows = data[data['일시'].str.contains(current_date.strftime('%m-%d'))]\n",
    "        count = len(selected_rows)\n",
    "        if (count != 24):\n",
    "            print(f\"{code} {current_date.strftime('%m-%d')}:\", count)\n",
    "        current_date += pd.DateOffset(days=1)"
   ]
  },
  {
   "cell_type": "code",
   "execution_count": 28,
   "metadata": {},
   "outputs": [],
   "source": [
    "# 결측치 보간, 11월 29일까지 사용\n",
    "for code in codes:\n",
    "    data = pd.read_csv(f'train/{code}_2022.csv')\n",
    "    data = data[1:7993]\n",
    "    data = data.interpolate()\n",
    "    data.to_csv(f'train/{code}_interpolated.csv', index=False)"
   ]
  }
 ],
 "metadata": {
  "kernelspec": {
   "display_name": "Python 3",
   "language": "python",
   "name": "python3"
  },
  "language_info": {
   "codemirror_mode": {
    "name": "ipython",
    "version": 3
   },
   "file_extension": ".py",
   "mimetype": "text/x-python",
   "name": "python",
   "nbconvert_exporter": "python",
   "pygments_lexer": "ipython3",
   "version": "3.10.11"
  },
  "orig_nbformat": 4
 },
 "nbformat": 4,
 "nbformat_minor": 2
}
